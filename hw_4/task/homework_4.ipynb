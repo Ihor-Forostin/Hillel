{
 "cells": [
  {
   "cell_type": "code",
   "execution_count": 7,
   "id": "aa74e403-d105-4f95-b537-2c12f2283d3d",
   "metadata": {},
   "outputs": [],
   "source": [
    "import os  # Модуль для взаємодії з операційною системою\n",
    "import numpy as np  # Бібліотека для роботи з масивами даних\n",
    "import pandas as pd  # Бібліотека для аналізу та обробки даних у форматі таблиць\n",
    "import matplotlib.pyplot as plt  # Бібліотека для візуалізації даних\n",
    "\n",
    "from sklearn.model_selection import KFold, StratifiedKFold  # Модулі для реалізації різних стратегій крос-валідації\n",
    "from sklearn.linear_model import LogisticRegression  # Логістична регресія - модель класифікації\n",
    "from sklearn.metrics import classification_report  # Метрики для оцінки якості класифікації\n",
    "\n",
    "import warnings\n",
    "warnings.filterwarnings(action=\"ignore\")"
   ]
  },
  {
   "cell_type": "markdown",
   "id": "6bd2b789-4f84-410e-96c4-efc5f228f3b7",
   "metadata": {},
   "source": [
    "## Data Load and Visualizations"
   ]
  },
  {
   "cell_type": "code",
   "execution_count": 9,
   "id": "18bcd74c-aa95-468f-a305-a218c7330eda",
   "metadata": {},
   "outputs": [
    {
     "name": "stdout",
     "output_type": "stream",
     "text": [
      "(60000, 785)\n"
     ]
    },
    {
     "data": {
      "text/html": [
       "<div>\n",
       "<style scoped>\n",
       "    .dataframe tbody tr th:only-of-type {\n",
       "        vertical-align: middle;\n",
       "    }\n",
       "\n",
       "    .dataframe tbody tr th {\n",
       "        vertical-align: top;\n",
       "    }\n",
       "\n",
       "    .dataframe thead th {\n",
       "        text-align: right;\n",
       "    }\n",
       "</style>\n",
       "<table border=\"1\" class=\"dataframe\">\n",
       "  <thead>\n",
       "    <tr style=\"text-align: right;\">\n",
       "      <th></th>\n",
       "      <th>label</th>\n",
       "      <th>1x1</th>\n",
       "      <th>1x2</th>\n",
       "      <th>1x3</th>\n",
       "      <th>1x4</th>\n",
       "      <th>1x5</th>\n",
       "      <th>1x6</th>\n",
       "      <th>1x7</th>\n",
       "      <th>1x8</th>\n",
       "      <th>1x9</th>\n",
       "      <th>...</th>\n",
       "      <th>28x19</th>\n",
       "      <th>28x20</th>\n",
       "      <th>28x21</th>\n",
       "      <th>28x22</th>\n",
       "      <th>28x23</th>\n",
       "      <th>28x24</th>\n",
       "      <th>28x25</th>\n",
       "      <th>28x26</th>\n",
       "      <th>28x27</th>\n",
       "      <th>28x28</th>\n",
       "    </tr>\n",
       "  </thead>\n",
       "  <tbody>\n",
       "    <tr>\n",
       "      <th>0</th>\n",
       "      <td>5</td>\n",
       "      <td>0</td>\n",
       "      <td>0</td>\n",
       "      <td>0</td>\n",
       "      <td>0</td>\n",
       "      <td>0</td>\n",
       "      <td>0</td>\n",
       "      <td>0</td>\n",
       "      <td>0</td>\n",
       "      <td>0</td>\n",
       "      <td>...</td>\n",
       "      <td>0</td>\n",
       "      <td>0</td>\n",
       "      <td>0</td>\n",
       "      <td>0</td>\n",
       "      <td>0</td>\n",
       "      <td>0</td>\n",
       "      <td>0</td>\n",
       "      <td>0</td>\n",
       "      <td>0</td>\n",
       "      <td>0</td>\n",
       "    </tr>\n",
       "    <tr>\n",
       "      <th>1</th>\n",
       "      <td>0</td>\n",
       "      <td>0</td>\n",
       "      <td>0</td>\n",
       "      <td>0</td>\n",
       "      <td>0</td>\n",
       "      <td>0</td>\n",
       "      <td>0</td>\n",
       "      <td>0</td>\n",
       "      <td>0</td>\n",
       "      <td>0</td>\n",
       "      <td>...</td>\n",
       "      <td>0</td>\n",
       "      <td>0</td>\n",
       "      <td>0</td>\n",
       "      <td>0</td>\n",
       "      <td>0</td>\n",
       "      <td>0</td>\n",
       "      <td>0</td>\n",
       "      <td>0</td>\n",
       "      <td>0</td>\n",
       "      <td>0</td>\n",
       "    </tr>\n",
       "    <tr>\n",
       "      <th>2</th>\n",
       "      <td>4</td>\n",
       "      <td>0</td>\n",
       "      <td>0</td>\n",
       "      <td>0</td>\n",
       "      <td>0</td>\n",
       "      <td>0</td>\n",
       "      <td>0</td>\n",
       "      <td>0</td>\n",
       "      <td>0</td>\n",
       "      <td>0</td>\n",
       "      <td>...</td>\n",
       "      <td>0</td>\n",
       "      <td>0</td>\n",
       "      <td>0</td>\n",
       "      <td>0</td>\n",
       "      <td>0</td>\n",
       "      <td>0</td>\n",
       "      <td>0</td>\n",
       "      <td>0</td>\n",
       "      <td>0</td>\n",
       "      <td>0</td>\n",
       "    </tr>\n",
       "    <tr>\n",
       "      <th>3</th>\n",
       "      <td>1</td>\n",
       "      <td>0</td>\n",
       "      <td>0</td>\n",
       "      <td>0</td>\n",
       "      <td>0</td>\n",
       "      <td>0</td>\n",
       "      <td>0</td>\n",
       "      <td>0</td>\n",
       "      <td>0</td>\n",
       "      <td>0</td>\n",
       "      <td>...</td>\n",
       "      <td>0</td>\n",
       "      <td>0</td>\n",
       "      <td>0</td>\n",
       "      <td>0</td>\n",
       "      <td>0</td>\n",
       "      <td>0</td>\n",
       "      <td>0</td>\n",
       "      <td>0</td>\n",
       "      <td>0</td>\n",
       "      <td>0</td>\n",
       "    </tr>\n",
       "    <tr>\n",
       "      <th>4</th>\n",
       "      <td>9</td>\n",
       "      <td>0</td>\n",
       "      <td>0</td>\n",
       "      <td>0</td>\n",
       "      <td>0</td>\n",
       "      <td>0</td>\n",
       "      <td>0</td>\n",
       "      <td>0</td>\n",
       "      <td>0</td>\n",
       "      <td>0</td>\n",
       "      <td>...</td>\n",
       "      <td>0</td>\n",
       "      <td>0</td>\n",
       "      <td>0</td>\n",
       "      <td>0</td>\n",
       "      <td>0</td>\n",
       "      <td>0</td>\n",
       "      <td>0</td>\n",
       "      <td>0</td>\n",
       "      <td>0</td>\n",
       "      <td>0</td>\n",
       "    </tr>\n",
       "  </tbody>\n",
       "</table>\n",
       "<p>5 rows × 785 columns</p>\n",
       "</div>"
      ],
      "text/plain": [
       "   label  1x1  1x2  1x3  1x4  1x5  1x6  1x7  1x8  1x9  ...  28x19  28x20  \\\n",
       "0      5    0    0    0    0    0    0    0    0    0  ...      0      0   \n",
       "1      0    0    0    0    0    0    0    0    0    0  ...      0      0   \n",
       "2      4    0    0    0    0    0    0    0    0    0  ...      0      0   \n",
       "3      1    0    0    0    0    0    0    0    0    0  ...      0      0   \n",
       "4      9    0    0    0    0    0    0    0    0    0  ...      0      0   \n",
       "\n",
       "   28x21  28x22  28x23  28x24  28x25  28x26  28x27  28x28  \n",
       "0      0      0      0      0      0      0      0      0  \n",
       "1      0      0      0      0      0      0      0      0  \n",
       "2      0      0      0      0      0      0      0      0  \n",
       "3      0      0      0      0      0      0      0      0  \n",
       "4      0      0      0      0      0      0      0      0  \n",
       "\n",
       "[5 rows x 785 columns]"
      ]
     },
     "execution_count": 9,
     "metadata": {},
     "output_type": "execute_result"
    }
   ],
   "source": [
    "df = pd.read_csv(os.path.join(\"data\", \"mnist_train.csv\"))  # Зчитуємо навчальні дані з CSV файлу\n",
    "print(df.shape)  # Виводимо розмір таблиці\n",
    "df.head()  # Виводимо перші декілька записів"
   ]
  },
  {
   "cell_type": "code",
   "execution_count": 11,
   "id": "90c38334-4dbd-451a-8298-69612309eaa1",
   "metadata": {},
   "outputs": [
    {
     "name": "stdout",
     "output_type": "stream",
     "text": [
      "(10000, 785)\n"
     ]
    },
    {
     "data": {
      "text/html": [
       "<div>\n",
       "<style scoped>\n",
       "    .dataframe tbody tr th:only-of-type {\n",
       "        vertical-align: middle;\n",
       "    }\n",
       "\n",
       "    .dataframe tbody tr th {\n",
       "        vertical-align: top;\n",
       "    }\n",
       "\n",
       "    .dataframe thead th {\n",
       "        text-align: right;\n",
       "    }\n",
       "</style>\n",
       "<table border=\"1\" class=\"dataframe\">\n",
       "  <thead>\n",
       "    <tr style=\"text-align: right;\">\n",
       "      <th></th>\n",
       "      <th>label</th>\n",
       "      <th>1x1</th>\n",
       "      <th>1x2</th>\n",
       "      <th>1x3</th>\n",
       "      <th>1x4</th>\n",
       "      <th>1x5</th>\n",
       "      <th>1x6</th>\n",
       "      <th>1x7</th>\n",
       "      <th>1x8</th>\n",
       "      <th>1x9</th>\n",
       "      <th>...</th>\n",
       "      <th>28x19</th>\n",
       "      <th>28x20</th>\n",
       "      <th>28x21</th>\n",
       "      <th>28x22</th>\n",
       "      <th>28x23</th>\n",
       "      <th>28x24</th>\n",
       "      <th>28x25</th>\n",
       "      <th>28x26</th>\n",
       "      <th>28x27</th>\n",
       "      <th>28x28</th>\n",
       "    </tr>\n",
       "  </thead>\n",
       "  <tbody>\n",
       "    <tr>\n",
       "      <th>0</th>\n",
       "      <td>7</td>\n",
       "      <td>0</td>\n",
       "      <td>0</td>\n",
       "      <td>0</td>\n",
       "      <td>0</td>\n",
       "      <td>0</td>\n",
       "      <td>0</td>\n",
       "      <td>0</td>\n",
       "      <td>0</td>\n",
       "      <td>0</td>\n",
       "      <td>...</td>\n",
       "      <td>0</td>\n",
       "      <td>0</td>\n",
       "      <td>0</td>\n",
       "      <td>0</td>\n",
       "      <td>0</td>\n",
       "      <td>0</td>\n",
       "      <td>0</td>\n",
       "      <td>0</td>\n",
       "      <td>0</td>\n",
       "      <td>0</td>\n",
       "    </tr>\n",
       "    <tr>\n",
       "      <th>1</th>\n",
       "      <td>2</td>\n",
       "      <td>0</td>\n",
       "      <td>0</td>\n",
       "      <td>0</td>\n",
       "      <td>0</td>\n",
       "      <td>0</td>\n",
       "      <td>0</td>\n",
       "      <td>0</td>\n",
       "      <td>0</td>\n",
       "      <td>0</td>\n",
       "      <td>...</td>\n",
       "      <td>0</td>\n",
       "      <td>0</td>\n",
       "      <td>0</td>\n",
       "      <td>0</td>\n",
       "      <td>0</td>\n",
       "      <td>0</td>\n",
       "      <td>0</td>\n",
       "      <td>0</td>\n",
       "      <td>0</td>\n",
       "      <td>0</td>\n",
       "    </tr>\n",
       "    <tr>\n",
       "      <th>2</th>\n",
       "      <td>1</td>\n",
       "      <td>0</td>\n",
       "      <td>0</td>\n",
       "      <td>0</td>\n",
       "      <td>0</td>\n",
       "      <td>0</td>\n",
       "      <td>0</td>\n",
       "      <td>0</td>\n",
       "      <td>0</td>\n",
       "      <td>0</td>\n",
       "      <td>...</td>\n",
       "      <td>0</td>\n",
       "      <td>0</td>\n",
       "      <td>0</td>\n",
       "      <td>0</td>\n",
       "      <td>0</td>\n",
       "      <td>0</td>\n",
       "      <td>0</td>\n",
       "      <td>0</td>\n",
       "      <td>0</td>\n",
       "      <td>0</td>\n",
       "    </tr>\n",
       "    <tr>\n",
       "      <th>3</th>\n",
       "      <td>0</td>\n",
       "      <td>0</td>\n",
       "      <td>0</td>\n",
       "      <td>0</td>\n",
       "      <td>0</td>\n",
       "      <td>0</td>\n",
       "      <td>0</td>\n",
       "      <td>0</td>\n",
       "      <td>0</td>\n",
       "      <td>0</td>\n",
       "      <td>...</td>\n",
       "      <td>0</td>\n",
       "      <td>0</td>\n",
       "      <td>0</td>\n",
       "      <td>0</td>\n",
       "      <td>0</td>\n",
       "      <td>0</td>\n",
       "      <td>0</td>\n",
       "      <td>0</td>\n",
       "      <td>0</td>\n",
       "      <td>0</td>\n",
       "    </tr>\n",
       "    <tr>\n",
       "      <th>4</th>\n",
       "      <td>4</td>\n",
       "      <td>0</td>\n",
       "      <td>0</td>\n",
       "      <td>0</td>\n",
       "      <td>0</td>\n",
       "      <td>0</td>\n",
       "      <td>0</td>\n",
       "      <td>0</td>\n",
       "      <td>0</td>\n",
       "      <td>0</td>\n",
       "      <td>...</td>\n",
       "      <td>0</td>\n",
       "      <td>0</td>\n",
       "      <td>0</td>\n",
       "      <td>0</td>\n",
       "      <td>0</td>\n",
       "      <td>0</td>\n",
       "      <td>0</td>\n",
       "      <td>0</td>\n",
       "      <td>0</td>\n",
       "      <td>0</td>\n",
       "    </tr>\n",
       "  </tbody>\n",
       "</table>\n",
       "<p>5 rows × 785 columns</p>\n",
       "</div>"
      ],
      "text/plain": [
       "   label  1x1  1x2  1x3  1x4  1x5  1x6  1x7  1x8  1x9  ...  28x19  28x20  \\\n",
       "0      7    0    0    0    0    0    0    0    0    0  ...      0      0   \n",
       "1      2    0    0    0    0    0    0    0    0    0  ...      0      0   \n",
       "2      1    0    0    0    0    0    0    0    0    0  ...      0      0   \n",
       "3      0    0    0    0    0    0    0    0    0    0  ...      0      0   \n",
       "4      4    0    0    0    0    0    0    0    0    0  ...      0      0   \n",
       "\n",
       "   28x21  28x22  28x23  28x24  28x25  28x26  28x27  28x28  \n",
       "0      0      0      0      0      0      0      0      0  \n",
       "1      0      0      0      0      0      0      0      0  \n",
       "2      0      0      0      0      0      0      0      0  \n",
       "3      0      0      0      0      0      0      0      0  \n",
       "4      0      0      0      0      0      0      0      0  \n",
       "\n",
       "[5 rows x 785 columns]"
      ]
     },
     "execution_count": 11,
     "metadata": {},
     "output_type": "execute_result"
    }
   ],
   "source": [
    "df_test = pd.read_csv(os.path.join(\"data\", \"mnist_test.csv\"))  # Зчитуємо тестові дані з CSV файлу\n",
    "print(df_test.shape)  # Виводимо розмір таблиці тестових даних\n",
    "df_test.head()  # Виводимо перші декілька записів тестових даних"
   ]
  },
  {
   "cell_type": "code",
   "execution_count": 19,
   "id": "41336be7-e603-48bb-8f7c-634179f1c7b7",
   "metadata": {},
   "outputs": [
    {
     "data": {
      "image/png": "[encoded data removed]",
      "text/plain": [
       "<Figure size 640x480 with 1 Axes>"
      ]
     },
     "metadata": {},
     "output_type": "display_data"
    }
   ],
   "source": [
    "idx = 120  # Індекс зразка, який хочемо візуалізувати\n",
    "label = df.iloc[idx, 0]  # Отримуємо мітку (цифру) для вибраного зразка\n",
    "sample = df.iloc[idx, 1:]  # Отримуємо піксельні дані для вибраного зразка\n",
    "sample = np.reshape(sample, (28, 28))  # Перетворюємо плоский масив у двовимірний зображення розміром 28x28\n",
    "\n",
    "plt.title(f\"Number: {label}\")  # Встановлюємо заголовок з міткою (цифрою) зразка\n",
    "plt.imshow(sample);  # Візуалізуємо зразок"
   ]
  },
  {
   "cell_type": "code",
   "execution_count": 13,
   "id": "30c17163-eb79-4ca8-9354-4d85f3ae2340",
   "metadata": {},
   "outputs": [],
   "source": [
    "def sample_as_img(sample):\n",
    "    label = sample[0]  # Отримуємо мітку (цифру)\n",
    "    img = np.reshape(sample[1:], (28, 28))  # Перетворюємо плоский масив у двовимірний зображення розміром 28x28\n",
    "    return img, label"
   ]
  },
  {
   "cell_type": "code",
   "execution_count": 18,
   "id": "065e1bfc-2251-42f4-a340-80ba6303f3f9",
   "metadata": {},
   "outputs": [
    {
     "data": {
      "image/png": "[encoded data removed]",
      "text/plain": [
       "<Figure size 640x480 with 10 Axes>"
      ]
     },
     "metadata": {},
     "output_type": "display_data"
    }
   ],
   "source": [
    "fix, axes = plt.subplots(ncols=10)  # Створюємо сітку з 10 графіками в одному рядку\n",
    "for i in range(10):\n",
    "    sample = df[df[\"label\"] == i].iloc[0]  # Вибираємо перший зразок для кожної цифри\n",
    "    img, label = sample_as_img(sample)  # Отримуємо зображення та мітку для поточного зразка\n",
    "    ax = axes[i]  # Вибираємо поточний графік з сітки\n",
    "    ax.imshow(img)  # Візуалізуємо зображення\n",
    "    ax.set_title(label)  # Встановлюємо заголовок графіку з міткою (цифрою)\n",
    "    # Приховуємо мітки маркерів X та Y\n",
    "    ax.xaxis.set_tick_params(labelbottom=False)\n",
    "    ax.yaxis.set_tick_params(labelleft=False)\n",
    "    # Приховуємо позначки маркерів X та Y\n",
    "    ax.set_xticks([])\n",
    "    ax.set_yticks([])"
   ]
  },
  {
   "cell_type": "markdown",
   "id": "bbca17ce-a09b-49be-b9a9-b85d77104920",
   "metadata": {},
   "source": [
    "#### TODO: Data Check\n",
    "\n",
    "Проаналізуйте дані - візуалізуйте розподіл класів (таргета), візуалізуйте приклади класів."
   ]
  },
  {
   "cell_type": "code",
   "execution_count": 20,
   "id": "50af3231-b40f-4cc5-aba7-6c5546285ea8",
   "metadata": {},
   "outputs": [
    {
     "name": "stdout",
     "output_type": "stream",
     "text": [
      "label\n",
      "1    6742\n",
      "7    6265\n",
      "3    6131\n",
      "2    5958\n",
      "9    5949\n",
      "0    5923\n",
      "6    5918\n",
      "8    5851\n",
      "4    5842\n",
      "5    5421\n",
      "Name: count, dtype: int64\n"
     ]
    }
   ],
   "source": [
    "class_counts = df['label'].value_counts()\n",
    "print(class_counts)\n"
   ]
  },
  {
   "cell_type": "code",
   "execution_count": 25,
   "id": "185c29e4-e081-4505-bff7-2679096f8c2a",
   "metadata": {},
   "outputs": [
    {
     "data": {
      "image/png": "[encoded data removed]",
      "text/plain": [
       "<Figure size 800x600 with 1 Axes>"
      ]
     },
     "metadata": {},
     "output_type": "display_data"
    }
   ],
   "source": [
    "class_counts.plot(kind='bar', color='skyblue', figsize=(8, 6))\n",
    "plt.title('Class Distribution')\n",
    "plt.xlabel('Class Labels')\n",
    "plt.ylabel('Number of Samples')\n",
    "plt.xticks(rotation=0)\n",
    "plt.show()"
   ]
  },
  {
   "cell_type": "code",
   "execution_count": 41,
   "id": "ccaed267-d326-427c-ac83-a0bff514cff2",
   "metadata": {},
   "outputs": [
    {
     "data": {
      "image/png": "[encoded data removed]",
      "text/plain": [
       "<Figure size 700x1200 with 50 Axes>"
      ]
     },
     "metadata": {},
     "output_type": "display_data"
    }
   ],
   "source": [
    "fig, axes = plt.subplots(nrows=10, ncols=5, figsize=(7, 12)) \n",
    "\n",
    "for i, row in enumerate(axes):\n",
    "    for num, ax in enumerate(row):\n",
    "        sample = df[df[\"label\"] == i].iloc[num] \n",
    "        img, label = sample_as_img(sample) \n",
    "        ax.axis('off') \n",
    "        ax.imshow(img)\n",
    "    fig.text(0.05, 1 - (i + 0.5) / 10, f\"{i}\", va='center', ha='right', fontsize=12)\n",
    "plt.tight_layout(rect=[0.1, 0, 1, 1]) \n",
    "plt.show()"
   ]
  },
  {
   "cell_type": "markdown",
   "id": "df97b2d9-5cf8-477a-809f-d95b8ba552d9",
   "metadata": {},
   "source": [
    "## Modeling & Evaluation\n",
    "\n",
    "#### TODO\n",
    "\n",
    "На основі розподілу даних оберіть метрику яку оптимізуватимете (accuracy, precision, recall, $F_1$) і напишіть чому саме такий вибір.\n",
    "\n",
    "Знайдіть модель яка найкраще б працювала на тестових даних (спробуйте різні значення для параметру `penalty : {‘l1’, ‘l2’, ‘elasticnet’, None}`). Напишіть метрики моделей на тестових даних які перевіряли."
   ]
  },
  {
   "cell_type": "code",
   "execution_count": null,
   "id": "400ba90f-2ea4-4af0-b8e8-35b585e0e4a9",
   "metadata": {},
   "outputs": [],
   "source": [
    "Вразовуючи, що тренувальні дані загалом є збалансованими і розподілені рівномірно по класам, я обираю оптимізацію для метрики accuracy"
   ]
  },
  {
   "cell_type": "code",
   "execution_count": 42,
   "id": "2f9f0fdd-da59-46cf-9514-24beb3dfb075",
   "metadata": {},
   "outputs": [],
   "source": [
    "# Побудова наборів даних\n",
    "X = df.iloc[:, 1:].values / 255.0  # Конвертація значень пікселів з діапазону [0..255] до [0,1]\n",
    "y = df.iloc[:, 0].values  # Вибір міток класів (цифр)\n",
    "\n",
    "X_test = df_test.iloc[:, 1:].values / 255.0  # Конвертація значень пікселів тестового набору даних з [0..255] до [0,1]\n",
    "y_test = df_test.iloc[:, 0].values  # Вибір міток класів для тестового набору даних"
   ]
  },
  {
   "cell_type": "code",
   "execution_count": 44,
   "id": "0687d466-87a2-4eea-a034-c0eca2467e64",
   "metadata": {},
   "outputs": [
    {
     "name": "stdout",
     "output_type": "stream",
     "text": [
      "\n",
      "[Fold 1/5]\n",
      "              precision    recall  f1-score   support\n",
      "\n",
      "           0       0.96      0.97      0.96      1206\n",
      "           1       0.95      0.97      0.96      1351\n",
      "           2       0.91      0.90      0.91      1176\n",
      "           3       0.89      0.89      0.89      1228\n",
      "           4       0.92      0.94      0.93      1184\n",
      "           5       0.91      0.88      0.89      1048\n",
      "           6       0.94      0.96      0.95      1208\n",
      "           7       0.95      0.92      0.94      1279\n",
      "           8       0.89      0.85      0.87      1127\n",
      "           9       0.90      0.92      0.91      1193\n",
      "\n",
      "    accuracy                           0.92     12000\n",
      "   macro avg       0.92      0.92      0.92     12000\n",
      "weighted avg       0.92      0.92      0.92     12000\n",
      "\n",
      "\n",
      "[Fold 2/5]\n",
      "              precision    recall  f1-score   support\n",
      "\n",
      "           0       0.96      0.96      0.96      1175\n",
      "           1       0.96      0.97      0.96      1381\n",
      "           2       0.90      0.88      0.89      1171\n",
      "           3       0.90      0.90      0.90      1259\n",
      "           4       0.91      0.92      0.92      1163\n",
      "           5       0.88      0.88      0.88      1096\n",
      "           6       0.94      0.95      0.95      1162\n",
      "           7       0.94      0.94      0.94      1210\n",
      "           8       0.86      0.88      0.87      1165\n",
      "           9       0.90      0.89      0.89      1218\n",
      "\n",
      "    accuracy                           0.92     12000\n",
      "   macro avg       0.92      0.92      0.92     12000\n",
      "weighted avg       0.92      0.92      0.92     12000\n",
      "\n",
      "\n",
      "[Fold 3/5]\n",
      "              precision    recall  f1-score   support\n",
      "\n",
      "           0       0.97      0.96      0.96      1153\n",
      "           1       0.95      0.97      0.96      1381\n",
      "           2       0.92      0.90      0.91      1195\n",
      "           3       0.91      0.90      0.90      1203\n",
      "           4       0.93      0.92      0.93      1160\n",
      "           5       0.88      0.87      0.87      1086\n",
      "           6       0.93      0.95      0.94      1197\n",
      "           7       0.93      0.92      0.92      1232\n",
      "           8       0.88      0.87      0.88      1180\n",
      "           9       0.89      0.90      0.89      1213\n",
      "\n",
      "    accuracy                           0.92     12000\n",
      "   macro avg       0.92      0.92      0.92     12000\n",
      "weighted avg       0.92      0.92      0.92     12000\n",
      "\n",
      "\n",
      "[Fold 4/5]\n",
      "              precision    recall  f1-score   support\n",
      "\n",
      "           0       0.96      0.95      0.96      1195\n",
      "           1       0.95      0.97      0.96      1357\n",
      "           2       0.92      0.91      0.91      1220\n",
      "           3       0.90      0.87      0.88      1199\n",
      "           4       0.92      0.93      0.92      1148\n",
      "           5       0.86      0.87      0.86      1094\n",
      "           6       0.94      0.95      0.94      1181\n",
      "           7       0.92      0.93      0.92      1247\n",
      "           8       0.89      0.87      0.88      1181\n",
      "           9       0.89      0.90      0.90      1178\n",
      "\n",
      "    accuracy                           0.92     12000\n",
      "   macro avg       0.91      0.91      0.91     12000\n",
      "weighted avg       0.92      0.92      0.92     12000\n",
      "\n",
      "\n",
      "[Fold 5/5]\n",
      "              precision    recall  f1-score   support\n",
      "\n",
      "           0       0.95      0.97      0.96      1194\n",
      "           1       0.95      0.98      0.97      1272\n",
      "           2       0.92      0.90      0.91      1196\n",
      "           3       0.90      0.89      0.90      1242\n",
      "           4       0.94      0.94      0.94      1187\n",
      "           5       0.89      0.87      0.88      1097\n",
      "           6       0.95      0.96      0.96      1170\n",
      "           7       0.94      0.94      0.94      1297\n",
      "           8       0.91      0.89      0.90      1198\n",
      "           9       0.90      0.90      0.90      1147\n",
      "\n",
      "    accuracy                           0.93     12000\n",
      "   macro avg       0.93      0.93      0.93     12000\n",
      "weighted avg       0.93      0.93      0.93     12000\n",
      "\n"
     ]
    }
   ],
   "source": [
    "n_folds = 5  # Кількість фолдів для крос-валідації\n",
    "\n",
    "for fold_idx, (train_idxs, valid_idxs) in enumerate(KFold(n_splits=n_folds).split(X)):\n",
    "    x_train, y_train = X[train_idxs], y[train_idxs]  # Отримання тренувального набору\n",
    "    x_valid, y_valid = X[valid_idxs], y[valid_idxs]  # Отримання валідаційного набору\n",
    "    model = LogisticRegression(penalty=None)  # Створення моделі логістичної регресії\n",
    "    model.fit(x_train, y_train)  # Навчання моделі на тренувальних даних\n",
    "    y_pred = model.predict(x_valid)  # Прогнозування на валідаційних даних\n",
    "    report = classification_report(y_valid, y_pred)  # Оцінка якості класифікації на валідаційних даних\n",
    "    print(f\"\\n[Fold {fold_idx+1}/{n_folds}]\")  # Вивід номера фолду\n",
    "    print(report)  # Вивід звіту про класифікацію для поточного фолду"
   ]
  },
  {
   "cell_type": "code",
   "execution_count": 45,
   "id": "e12e3f08-1750-4f54-971d-4302cac515a0",
   "metadata": {},
   "outputs": [
    {
     "name": "stdout",
     "output_type": "stream",
     "text": [
      "              precision    recall  f1-score   support\n",
      "\n",
      "           0       0.95      0.98      0.97       980\n",
      "           1       0.96      0.98      0.97      1135\n",
      "           2       0.93      0.90      0.91      1032\n",
      "           3       0.91      0.91      0.91      1010\n",
      "           4       0.94      0.93      0.93       982\n",
      "           5       0.90      0.88      0.89       892\n",
      "           6       0.94      0.95      0.95       958\n",
      "           7       0.94      0.92      0.93      1028\n",
      "           8       0.87      0.88      0.88       974\n",
      "           9       0.91      0.92      0.91      1009\n",
      "\n",
      "    accuracy                           0.93     10000\n",
      "   macro avg       0.92      0.92      0.92     10000\n",
      "weighted avg       0.93      0.93      0.93     10000\n",
      "\n"
     ]
    }
   ],
   "source": [
    "model = LogisticRegression(penalty=None)  # Створення моделі логістичної регресії для тестування\n",
    "model.fit(X, y)  # Навчання моделі на всіх навчальних даних\n",
    "\n",
    "print(classification_report(y_test, model.predict(X_test)))  # Оцінка якості класифікації на тестових даних та виведення звіту"
   ]
  },
  {
   "cell_type": "code",
   "execution_count": 48,
   "id": "be60b55a-898c-46b8-a49e-af7b585e8222",
   "metadata": {},
   "outputs": [
    {
     "name": "stdout",
     "output_type": "stream",
     "text": [
      "l1 has finished\n",
      "l2 has finished\n",
      "An error occurred: l1_ratio must be specified when penalty is elasticnet.\n",
      "None has finished\n",
      "  penalty  accuracy  precision  recall  f1-score\n",
      "0      l1    0.9271   0.926962  0.9271  0.926942\n",
      "1      l2    0.9264   0.926208  0.9264  0.926226\n",
      "2    None    0.9261   0.925892  0.9261  0.925922\n"
     ]
    }
   ],
   "source": [
    "penalty_options = ['l1', 'l2', None]\n",
    "results = []\n",
    "\n",
    "for penalty in penalty_options:\n",
    "    try:\n",
    "        model = LogisticRegression(penalty=penalty, solver='saga')\n",
    "        model.fit(X, y)\n",
    "        \n",
    "        y_pred = model.predict(X_test)\n",
    "        \n",
    "        report = classification_report(y_test, y_pred, output_dict=True)\n",
    "        results.append({'penalty': penalty, 'accuracy': report['accuracy'],\n",
    "                        'precision': report['weighted avg']['precision'],\n",
    "                        'recall': report['weighted avg']['recall'],\n",
    "                        'f1-score': report['weighted avg']['f1-score']})\n",
    "        print(f'{penalty} has finished')\n",
    "    except Exception as e:\n",
    "        print(f'An error occurred: {e}')\n",
    "\n",
    "results_df = pd.DataFrame(results)\n",
    "print(results_df)"
   ]
  },
  {
   "cell_type": "code",
   "execution_count": 52,
   "id": "e53a074f-c100-49fc-9ea3-bec05afd25e3",
   "metadata": {},
   "outputs": [
    {
     "name": "stdout",
     "output_type": "stream",
     "text": [
      "  penalty  accuracy  precision  recall  f1-score\n",
      "0      l1    0.9271   0.926962  0.9271  0.926942\n",
      "1      l2    0.9264   0.926208  0.9264  0.926226\n",
      "2    None    0.9261   0.925892  0.9261  0.925922\n"
     ]
    }
   ],
   "source": [
    "model = LogisticRegression(penalty='elasticnet', solver='saga', l1_ratio=0.5)\n",
    "model.fit(X, y)\n",
    "\n",
    "y_pred = model.predict(X_test)\n",
    "\n",
    "report = classification_report(y_test, y_pred, output_dict=True)\n",
    "results.append({'penalty': penalty, 'accuracy': report['accuracy'],\n",
    "                'precision': report['weighted avg']['precision'],\n",
    "                'recall': report['weighted avg']['recall'],\n",
    "                'f1-score': report['weighted avg']['f1-score']})\n",
    "results_df_all = pd.DataFrame(results)\n",
    "print(results_df)"
   ]
  },
  {
   "cell_type": "code",
   "execution_count": 53,
   "id": "a8605080-bedc-44af-a8fe-6fd36df7f4a3",
   "metadata": {},
   "outputs": [
    {
     "name": "stdout",
     "output_type": "stream",
     "text": [
      "  penalty  accuracy  precision  recall  f1-score\n",
      "0      l1    0.9271   0.926962  0.9271  0.926942\n",
      "1      l2    0.9264   0.926208  0.9264  0.926226\n",
      "2    None    0.9261   0.925892  0.9261  0.925922\n",
      "3    None    0.9268   0.926691  0.9268  0.926666\n"
     ]
    }
   ],
   "source": [
    "print(results_df_all)"
   ]
  },
  {
   "cell_type": "code",
   "execution_count": null,
   "id": "9b496bf3-cc5b-41d9-adfe-848b006ebe92",
   "metadata": {},
   "outputs": [],
   "source": [
    "* останній рядок у таблиці відповідає метрикам, зібраним з penalty='elasticnet'"
   ]
  },
  {
   "cell_type": "code",
   "execution_count": null,
   "id": "1ae1638b-46b6-4488-8950-4dce0519626c",
   "metadata": {},
   "outputs": [],
   "source": [
    "Зважаючи на отримані результати і мету оптимізувати accuracy, найкращі результати було отримано з penalty = 'l1'"
   ]
  }
 ],
 "metadata": {
  "kernelspec": {
   "display_name": "Python 3 (ipykernel)",
   "language": "python",
   "name": "python3"
  },
  "language_info": {
   "codemirror_mode": {
    "name": "ipython",
    "version": 3
   },
   "file_extension": ".py",
   "mimetype": "text/x-python",
   "name": "python",
   "nbconvert_exporter": "python",
   "pygments_lexer": "ipython3",
   "version": "3.10.7"
  }
 },
 "nbformat": 4,
 "nbformat_minor": 5
}
